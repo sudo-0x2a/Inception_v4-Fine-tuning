{
 "cells": [
  {
   "cell_type": "markdown",
   "metadata": {},
   "source": [
    "### 1. Prepare Dataset"
   ]
  },
  {
   "cell_type": "code",
   "execution_count": 1,
   "metadata": {},
   "outputs": [],
   "source": [
    "import random\n",
    "import torch\n",
    "\n",
    "device = torch.device(\"mps\")\n",
    "torch.manual_seed(42)\n",
    "random.seed(42)"
   ]
  },
  {
   "cell_type": "code",
   "execution_count": null,
   "metadata": {},
   "outputs": [],
   "source": [
    "# Load and examie the CIFAR-10 dataset\n",
    "import matplotlib.pyplot as plt\n",
    "from torchvision.datasets import CIFAR10\n",
    "\n",
    "train_set = CIFAR10(root=\"./data\", train=True, download=True, transform=None)\n",
    "test_set = CIFAR10(root=\"./data\", train=False, download=True, transform=None)\n",
    "\n",
    "imgs = train_set.data[:4]\n",
    "labels = train_set.targets[:4]\n",
    "classes = train_set.classes\n",
    "\n",
    "fig, axes = plt.subplots(1, 4, figsize=(6,6))\n",
    "for img, lbl, ax in zip(imgs, labels, axes.flatten()):\n",
    "    ax.imshow(img)\n",
    "    ax.set_title(classes[lbl])\n",
    "    ax.axis(\"off\")\n",
    "\n",
    "plt.tight_layout()\n",
    "plt.show()"
   ]
  },
  {
   "cell_type": "code",
   "execution_count": 3,
   "metadata": {},
   "outputs": [],
   "source": [
    "# Transform the dataset\n",
    "import torchvision.transforms as T\n",
    "from torch.utils.data import DataLoader\n",
    "\n",
    "batch_size = 64\n",
    "transform_data = T.Compose(\n",
    "    [\n",
    "        T.Resize((299, 299)), # Inception-v4 spatial dimention\n",
    "        T.ToTensor(),\n",
    "        T.Normalize(mean=[0.485, 0.456, 0.406], std=[0.229, 0.224, 0.225]) # ImageNet statistics\n",
    "    ]\n",
    ")\n",
    "\n",
    "train_set.transform = transform_data\n",
    "test_set.transform = transform_data\n",
    "\n",
    "train_loader = DataLoader(train_set, batch_size, shuffle=True, num_workers=8)\n",
    "test_loader = DataLoader(test_set, batch_size, shuffle=True, num_workers=8)"
   ]
  },
  {
   "cell_type": "markdown",
   "metadata": {},
   "source": [
    "### 2. Load the Inception-v4 model"
   ]
  },
  {
   "cell_type": "code",
   "execution_count": null,
   "metadata": {},
   "outputs": [],
   "source": [
    "import timm\n",
    "\n",
    "model_ori = timm.create_model(\"inception_v4\", pretrained=True)\n",
    "model_ori = model_ori.to(device)\n",
    "print(model_ori)"
   ]
  },
  {
   "cell_type": "code",
   "execution_count": null,
   "metadata": {},
   "outputs": [],
   "source": [
    "# Modify the number of output features to 10 for CIFAR-10 dataset\n",
    "model_modified = timm.create_model(\"inception_v4\", pretrained=True, num_classes=10)\n",
    "model_modified = model_modified.to(device)\n",
    "print(model_modified)"
   ]
  },
  {
   "cell_type": "markdown",
   "metadata": {},
   "source": [
    "### 3. Training & Validation"
   ]
  },
  {
   "cell_type": "code",
   "execution_count": 6,
   "metadata": {},
   "outputs": [],
   "source": [
    "from tqdm import tqdm\n",
    "\n",
    "# Define training procedure\n",
    "def training(model, train_loader, criterion, optimizer, device):\n",
    "    model.train()\n",
    "    running_loss = 0.0\n",
    "    correct = 0\n",
    "    total = 0\n",
    "    \n",
    "    train_bar = tqdm(train_loader, desc=\"Training\")\n",
    "    for inputs, targets in train_bar:\n",
    "        inputs, targets = inputs.to(device), targets.to(device)\n",
    "        \n",
    "        # Zero gradients\n",
    "        optimizer.zero_grad()\n",
    "        \n",
    "        # Forward pass\n",
    "        outputs = model(inputs)\n",
    "        loss = criterion(outputs, targets)\n",
    "        \n",
    "        # Backward pass and optimize\n",
    "        loss.backward()\n",
    "        optimizer.step()\n",
    "        \n",
    "        # Track statistics\n",
    "        running_loss += loss.item() * inputs.size(0)\n",
    "        _, predicted = outputs.max(1)\n",
    "        total += targets.size(0)\n",
    "        correct += predicted.eq(targets).sum().item()\n",
    "        \n",
    "        # Update progress bar\n",
    "        train_bar.set_postfix({\n",
    "            'loss': running_loss/total, \n",
    "            'acc': 100.*correct/total\n",
    "        })\n",
    "    \n",
    "    # Calculate loss and accuracy\n",
    "    train_loss = running_loss / len(train_loader.dataset)\n",
    "    train_accuracy = 100. * correct / total\n",
    "    \n",
    "    return train_loss, train_accuracy\n",
    "\n",
    "\n",
    "# Define validation procedure\n",
    "def validate(model, val_loader, criterion, device):\n",
    "    model.eval()\n",
    "    running_loss = 0.0\n",
    "    correct = 0\n",
    "    total = 0\n",
    "    \n",
    "    with torch.no_grad():\n",
    "        val_bar = tqdm(val_loader, desc=\"Validation\")\n",
    "        for inputs, targets in val_bar:\n",
    "            inputs, targets = inputs.to(device), targets.to(device)\n",
    "            \n",
    "            # Forward pass\n",
    "            outputs = model(inputs)\n",
    "            loss = criterion(outputs, targets)\n",
    "            \n",
    "            # Track statistics\n",
    "            running_loss += loss.item() * inputs.size(0)\n",
    "            _, predicted = outputs.max(1)\n",
    "            total += targets.size(0)\n",
    "            correct += predicted.eq(targets).sum().item()\n",
    "            \n",
    "            # Update progress bar\n",
    "            val_bar.set_postfix({\n",
    "                'loss': running_loss/total, \n",
    "                'acc': 100.*correct/total\n",
    "            })\n",
    "    \n",
    "    # Calculate loss and accuracy\n",
    "    val_loss = running_loss / len(val_loader.dataset)\n",
    "    val_accuracy = 100. * correct / total\n",
    "    \n",
    "    return val_loss, val_accuracy"
   ]
  },
  {
   "cell_type": "code",
   "execution_count": null,
   "metadata": {},
   "outputs": [],
   "source": [
    "import torch.nn as nn\n",
    "import torch.optim as optim\n",
    "\n",
    "criterion = nn.CrossEntropyLoss()\n",
    "\n",
    "# Evaluate the original pre-trained Inception-v4\n",
    "print(\"Evaluating original Inception v4 on CIFAR-10...\")\n",
    "original_val_loss, original_val_accuracy = validate(model_ori, test_loader, criterion, device)\n",
    "print(f\"Original model - Val Loss: {original_val_loss:.4f}, Val Acc: {original_val_accuracy:.2f}%\")"
   ]
  },
  {
   "cell_type": "code",
   "execution_count": null,
   "metadata": {},
   "outputs": [],
   "source": [
    "# Fine-tune the model\n",
    "\n",
    "# Define hyperparameters\n",
    "epochs = 2\n",
    "lr = 5e-3\n",
    "momentum = 0.9\n",
    "weight_decay = 1e-4\n",
    "\n",
    "optimizer = optim.SGD(\n",
    "    model_modified.parameters(),\n",
    "    lr=lr,\n",
    "    momentum=momentum,\n",
    "    weight_decay=weight_decay\n",
    ")\n",
    "\n",
    "# Save training data for further analysis\n",
    "training_losses = []\n",
    "training_accuracies = []\n",
    "validation_losses = []\n",
    "validation_accuracies = []\n",
    "\n",
    "for epoch in range(epochs):\n",
    "    print(f\"Epoch {epoch+1}/{epochs}\")\n",
    "    \n",
    "    # Training phase\n",
    "    train_loss, train_accuracy = training(model_modified, train_loader, criterion, optimizer, device)\n",
    "    training_losses.append(train_loss)\n",
    "    training_accuracies.append(train_accuracy)\n",
    "    \n",
    "    # Validation phase\n",
    "    val_loss, val_accuracy = validate(model_modified, test_loader, criterion, device)\n",
    "    validation_losses.append(val_loss)\n",
    "    validation_accuracies.append(val_accuracy)\n",
    "    \n",
    "    # Print epoch results\n",
    "    print(f\"Train Loss: {train_loss:.4f}, Train Acc: {train_accuracy:.2f}%\")\n",
    "    print(f\"Val Loss: {val_loss:.4f}, Val Acc: {val_accuracy:.2f}%\")\n",
    "    print(\"-\" * 50)"
   ]
  },
  {
   "cell_type": "code",
   "execution_count": null,
   "metadata": {},
   "outputs": [],
   "source": [
    "torch.save(model_modified.state_dict(), 'inception_v4_cifar10.pth')\n",
    "print(\"Model saved to inception_v4_cifar10.pth\")"
   ]
  }
 ],
 "metadata": {
  "kernelspec": {
   "display_name": "aiml",
   "language": "python",
   "name": "python3"
  },
  "language_info": {
   "codemirror_mode": {
    "name": "ipython",
    "version": 3
   },
   "file_extension": ".py",
   "mimetype": "text/x-python",
   "name": "python",
   "nbconvert_exporter": "python",
   "pygments_lexer": "ipython3",
   "version": "3.11.12"
  }
 },
 "nbformat": 4,
 "nbformat_minor": 2
}
